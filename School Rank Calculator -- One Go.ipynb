{
 "cells": [
  {
   "cell_type": "code",
   "execution_count": 1,
   "metadata": {},
   "outputs": [],
   "source": [
    "import pandas as pd\n",
    "import os\n",
    "import numpy as np"
   ]
  },
  {
   "cell_type": "code",
   "execution_count": 2,
   "metadata": {},
   "outputs": [],
   "source": [
    "pd.set_option('display.max_columns', None)\n",
    "pd.set_option('display.max_rows', None)"
   ]
  },
  {
   "cell_type": "code",
   "execution_count": 3,
   "metadata": {},
   "outputs": [],
   "source": [
    "pathKey = \"/home/aman/Documents/eurekaGurus/Dataset/Answer Key/\"\n",
    "pathStudent = \"/home/aman/Documents/eurekaGurus/Dataset/Students Answers/\""
   ]
  },
  {
   "cell_type": "code",
   "execution_count": 4,
   "metadata": {},
   "outputs": [],
   "source": [
    "files = []\n",
    "for r,d,f in os.walk(pathKey):\n",
    "    for file in f:\n",
    "        files.append(os.path.join(r, file))\n",
    "        \n",
    "files.sort()\n",
    "\n",
    "df1 = pd.read_csv( pathKey + files[0][52:], header = None)\n",
    "\n",
    "c = 0\n",
    "files = []\n",
    "for r,d,f in os.walk(pathStudent):\n",
    "    for file in f:\n",
    "        files.append(os.path.join(r, file))\n",
    "        c = c+1\n",
    "\n",
    "ct = 0\n",
    "w = []\n",
    "\n",
    "for i in range(c):\n",
    "    str = files[i][58:-4]\n",
    "    str = str.split('/')\n",
    "    if str[2] == '01':\n",
    "        w.append(files[i])\n",
    "        ct = ct+1"
   ]
  },
  {
   "cell_type": "code",
   "execution_count": 5,
   "metadata": {},
   "outputs": [],
   "source": [
    "SchoolCodes = ['C12001', 'C12002', 'C12003', 'C12004', 'C12005', 'C12006', 'C12007', 'C12008', 'C12009', 'C12010', 'C22001', 'C22002', 'C22003', 'C22004', 'C22005', 'C22006', 'C22007', 'C22008', 'C22009', 'C22010', 'C32001', 'C32002', 'C32003', 'C32004', 'C32005', 'C32006', 'C32007', 'C32008', 'C32009', 'C32010', 'C42001', 'C42002', 'C42003', 'C42004', 'C42005', 'C42006', 'C42007', 'C42008', 'C42009', 'C42010', 'C52001', 'C52002', 'C52003', 'C52004', 'C52005', 'C52006', 'C52007', 'C52008', 'C52009', 'C52010', 'C62001', 'C62002', 'C62003', 'C62004', 'C62005', 'C62006', 'C62007', 'C62008', 'C62009', 'C62010', 'C72001', 'C72002', 'C72003', 'C72004', 'C72005', 'C72006', 'C72007', 'C72008', 'C72009', 'C72010', 'C82001', 'C82002', 'C82003', 'C82004', 'C82005', 'C82006', 'C82007', 'C82008', 'C82009', 'C82010', 'C92001', 'C92002', 'C92003', 'C92004', 'C92005', 'C92006', 'C92007', 'C92008', 'C92009', 'C92010', 'CT2001', 'CT2002', 'CT2003', 'CT2004', 'CT2005', 'CT2006', 'CT2007', 'CT2008', 'CT2009', 'CT2010']"
   ]
  },
  {
   "cell_type": "code",
   "execution_count": 6,
   "metadata": {},
   "outputs": [],
   "source": [
    "def Score(j):\n",
    "    \n",
    "    li = []\n",
    "    st = SchoolCodes[j]\n",
    "    \n",
    "    for i in range(ct):\n",
    "        \n",
    "        str = w[i][58:-4]\n",
    "        str = str.split('/')\n",
    "        \n",
    "        if str[1] == st:\n",
    "            df2 = pd.read_csv(pathStudent + w[i][58:], header = None)\n",
    "            \n",
    "            str = w[i][66:-4]\n",
    "            str = str.split('/')\n",
    "            s = str[0] + \"-\" + str[1] + \"-\" + str[2]\n",
    "            \n",
    "            Marks = 0\n",
    "            \n",
    "            \n",
    "            LR = 0\n",
    "            SC = 0\n",
    "            MH = 0\n",
    "            AS = 0\n",
    "        \n",
    "            for j in range(0,10):\n",
    "                if (df2[0][j] == -1):\n",
    "                    LR = LR+0\n",
    "                elif (df1[0][j] == df2[0][j]):\n",
    "                    LR = LR+1\n",
    "                else:\n",
    "                    LR = LR-0.25\n",
    "        \n",
    "            for j in range(10,20):\n",
    "                if (df2[0][j] == -1):\n",
    "                    SC = SC+0\n",
    "                elif (df1[0][j] == df2[0][j]):\n",
    "                    SC = SC+1\n",
    "                else:\n",
    "                    SC = SC-0.25\n",
    "                \n",
    "            for j in range(20, 30):\n",
    "                if (df2[0][j] == -1):\n",
    "                    MH = MH+0\n",
    "                elif (df1[0][j] == df2[0][j]):\n",
    "                    MH = MH+1\n",
    "                else:\n",
    "                    MH = MH-0.25\n",
    "                \n",
    "            for j in range(30, 35):\n",
    "                if (df2[0][j] == -1):\n",
    "                    AS = AS+0\n",
    "                elif (df1[0][j] == df2[0][j]):\n",
    "                    AS = AS+2\n",
    "                else:\n",
    "                    AS = AS-0.50\n",
    "                \n",
    "            Marks = LR + SC + MH + AS\n",
    "\n",
    "            li.append([s,LR, SC, MH, AS, Marks])\n",
    "    \n",
    "    df = pd.DataFrame(li)\n",
    "    df = df.rename(columns = {0:'Roll Number', 1:'Logical Reasoning', 2:'Science', 3:'Mathematics', 4:'Advance Section', 5:'Marks Obtained'})\n",
    "    df = df.sort_values(['Marks Obtained', 'Advance Section', 'Mathematics', 'Science', 'Logical Reasoning'], ascending=[False, False, False, False, False])\n",
    "    df.index = np.arange(1, len(df)+1)\n",
    "    df['Class Rank'] = df.index\n",
    "    df = df.set_index('Roll Number')\n",
    "    df = df.drop(\"Marks Obtained\", axis = 1)\n",
    "    df = df.drop(\"Advance Section\", axis = 1)\n",
    "    df = df.drop(\"Mathematics\", axis = 1)\n",
    "    df = df.drop(\"Science\", axis = 1)\n",
    "    df = df.drop(\"Logical Reasoning\", axis = 1)\n",
    "    df.to_csv(\"/home/aman/Documents/eurekaGurus/Dataset/Class Rank/01/\" + st + \".csv\" )"
   ]
  },
  {
   "cell_type": "code",
   "execution_count": 7,
   "metadata": {},
   "outputs": [],
   "source": [
    "j = 0\n",
    "for x in range(100):\n",
    "    Score(j)\n",
    "    j = j+1"
   ]
  }
 ],
 "metadata": {
  "kernelspec": {
   "display_name": "Python 3",
   "language": "python",
   "name": "python3"
  },
  "language_info": {
   "codemirror_mode": {
    "name": "ipython",
    "version": 3
   },
   "file_extension": ".py",
   "mimetype": "text/x-python",
   "name": "python",
   "nbconvert_exporter": "python",
   "pygments_lexer": "ipython3",
   "version": "3.7.1"
  }
 },
 "nbformat": 4,
 "nbformat_minor": 2
}
