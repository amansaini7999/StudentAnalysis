{
 "cells": [
  {
   "cell_type": "code",
   "execution_count": 1,
   "metadata": {},
   "outputs": [],
   "source": [
    "from PIL import Image\n",
    "from PIL import ImageFont\n",
    "from PIL import ImageDraw\n",
    "import pandas as pd\n",
    "import matplotlib.pyplot as plt"
   ]
  },
  {
   "cell_type": "code",
   "execution_count": 2,
   "metadata": {},
   "outputs": [],
   "source": [
    "df = pd.read_csv(\"Analysis/Class1.csv\")"
   ]
  },
  {
   "cell_type": "code",
   "execution_count": 3,
   "metadata": {},
   "outputs": [
    {
     "data": {
      "text/plain": [
       "247"
      ]
     },
     "execution_count": 3,
     "metadata": {},
     "output_type": "execute_result"
    }
   ],
   "source": [
    "len(df)"
   ]
  },
  {
   "cell_type": "code",
   "execution_count": 4,
   "metadata": {},
   "outputs": [],
   "source": [
    "path = \"Report/Class1/\""
   ]
  },
  {
   "cell_type": "code",
   "execution_count": 5,
   "metadata": {},
   "outputs": [],
   "source": [
    "def result():\n",
    "    #Front Side\n",
    "    template = Image.open(\"Front.jpg\")\n",
    "    percentileGraph = Image.open(\"percentileScoreGraph/Class01/\" + df.rollNumber[i] + \".png\")\n",
    "\n",
    "    draw = ImageDraw.Draw(template)\n",
    "    font = ImageFont.truetype(\"arial.ttf\", 24)\n",
    "\n",
    "    draw.text((242, 383),df.rollNumber[i],(0,0,0),font=font)\n",
    "    draw.text((310, 420),str(df.marksObtained[i]),(0,0,0),font=font)\n",
    "    draw.text((285, 460),str(40),(0,0,0),font=font)\n",
    "\n",
    "    draw.text((700, 383),str(df.schoolRank[i]),(0,0,0),font=font)\n",
    "    draw.text((723, 420),str(df.nationalRank[i]),(0,0,0),font=font)\n",
    "    draw.text((752, 460),str(round(df.percentile[i], 2)),(0,0,0),font=font)\n",
    "    draw.text((1005, 383),df.city[i],(0,0,0),font=font)\n",
    "    draw.text((1020, 420),df.state[i],(0,0,0),font=font)\n",
    "\n",
    "    draw.text((280, 598),df.schoolName[i],(0,0,0),font=font)\n",
    "    draw.text((250, 630),df.state[i],(0,0,0),font=font)\n",
    "\n",
    "    draw.text((840, 730),str(round(df.logicalReasoning[i], 2)),(0,0,0),font=font)\n",
    "    draw.text((840, 770),str(round(df.Science[i], 2)),(0,0,0),font=font)\n",
    "    draw.text((840, 810),str(round(df.Mathematics[i], 2)),(0,0,0),font=font)\n",
    "    draw.text((840, 850),str(round(df.advanceSection[i], 2)),(0,0,0),font=font)\n",
    "    draw.text((840, 890),str(round(df.marksObtained[i], 2)),(0,0,0),font=font)\n",
    "\n",
    "    draw.text((1150, 730),str(round(df.nationalHighestLogical[i], 2)),(0,0,0),font=font)\n",
    "    draw.text((1150, 770),str(round(df.nationalHighestScience[i], 2)),(0,0,0),font=font)\n",
    "    draw.text((1150, 810),str(round(df.nationalHighestMathematics[i], 2)),(0,0,0),font=font)\n",
    "    draw.text((1150, 850),str(round(df.nationalHighestAdvance[i], 2)),(0,0,0),font=font)\n",
    "    draw.text((1150, 890),str(round(df.nationalHighestLogical[i] + df.nationalHighestScience[i] + df.nationalHighestMathematics[i] + df.nationalHighestAdvance[i], 2)),(0,0,0),font=font)\n",
    "\n",
    "    draw.text((1050, 1088),str(round(df.logicalPercentile[i], 2)),(0,0,0),font=font)\n",
    "    draw.text((1050, 1128),str(round(df.sciencePercentile[i], 2)),(0,0,0),font=font)\n",
    "    draw.text((1050, 1170),str(round(df.mathematicsPercentile[i], 2)),(0,0,0),font=font)\n",
    "    draw.text((1050, 1210),str(round(df.advancePercentile[i], 2)),(0,0,0),font=font)\n",
    "    draw.text((1050, 1250),str(round(df.percentile[i], 2)),(0,0,0),font=font)\n",
    "\n",
    "    template.paste(percentileGraph, (150, 1289), percentileGraph)\n",
    "    template.save(path + df.rollNumber[i] + ' a.pdf')\n",
    "    \n",
    "    \n",
    "    #Back Side\n",
    "    template = Image.open(\"Back.jpg\")\n",
    "    avgGraph = Image.open(\"averageMarksGraph/Class01/\" + df.rollNumber[i] + \".png\")\n",
    "    topicWiseGraph = Image.open(\"topicWiseGraph/Class01/\" + df.rollNumber[i] + \".png\")\n",
    "\n",
    "    draw = ImageDraw.Draw(template)\n",
    "    font = ImageFont.truetype(\"arial.ttf\", 24)\n",
    "\n",
    "    draw.text((1000, 170),str(df.marksObtained[i]),(0,0,0),font=font)\n",
    "    draw.text((1000, 215),str(round(df.schoolAverage[i], 2)),(0,0,0),font=font)\n",
    "    draw.text((1000, 255),str(round(df.nationalAverage[i], 2)),(0,0,0),font=font)\n",
    "\n",
    "    draw.text((1040, 1037),str(round(df.logicalReasoning[i]*10, 2)),(0,0,0),font=font)\n",
    "    draw.text((1040, 1080),str(round(df.Science[i]*10, 2)),(0,0,0),font=font)\n",
    "    draw.text((1040, 1120),str(round(df.Mathematics[i]*10, 2)),(0,0,0),font=font)\n",
    "    draw.text((1040, 1160),str(round(df.advanceSection[i]*10, 2)),(0,0,0),font=font)\n",
    "    draw.text((1040, 1200),str(round((df.marksObtained[i]/4)*10, 2)),(0,0,0),font=font)\n",
    "\n",
    "    template.paste(avgGraph, (250, 291), avgGraph)\n",
    "    template.paste(topicWiseGraph, (250, 1237), topicWiseGraph)\n",
    "    template.save(path + df.rollNumber[i] + ' b.pdf')"
   ]
  },
  {
   "cell_type": "code",
   "execution_count": 6,
   "metadata": {},
   "outputs": [],
   "source": [
    "for i in range(1):\n",
    "    result()"
   ]
  }
 ],
 "metadata": {
  "kernelspec": {
   "display_name": "Python 3",
   "language": "python",
   "name": "python3"
  },
  "language_info": {
   "codemirror_mode": {
    "name": "ipython",
    "version": 3
   },
   "file_extension": ".py",
   "mimetype": "text/x-python",
   "name": "python",
   "nbconvert_exporter": "python",
   "pygments_lexer": "ipython3",
   "version": "3.7.3"
  }
 },
 "nbformat": 4,
 "nbformat_minor": 2
}
