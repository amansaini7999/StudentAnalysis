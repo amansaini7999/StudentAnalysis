{
 "cells": [
  {
   "cell_type": "code",
   "execution_count": 1,
   "metadata": {},
   "outputs": [],
   "source": [
    "import pandas as pd\n",
    "pd.set_option('display.max_rows', None)"
   ]
  },
  {
   "cell_type": "code",
   "execution_count": 2,
   "metadata": {},
   "outputs": [],
   "source": [
    "'''df1 = pd.read_csv(\"Final Responses/Class 1-7.csv\")\n",
    "df2 = pd.read_csv(\"Final Responses/Class 8-10.csv\")'''\n",
    "df3 = pd.read_csv(\"Final Responses/Class 11-12.csv\")"
   ]
  },
  {
   "cell_type": "code",
   "execution_count": 3,
   "metadata": {},
   "outputs": [],
   "source": [
    "li1 = []\n",
    "cl1 = []\n",
    "\n",
    "for i in range(len(df1)):\n",
    "    if df1['Roll Number'][i][0:6] == 'PU2002':\n",
    "        li1.append(1)\n",
    "    elif df1['Roll Number'][i][0:6] == 'AS2009':\n",
    "        li1.append(1)\n",
    "    elif df1['Roll Number'][i][0:6] == 'UK2008':\n",
    "        li1.append(1)\n",
    "    elif df1['Roll Number'][i][0:6] == 'UP2005':\n",
    "        li1.append(1)\n",
    "    else:\n",
    "        li1.append(2)\n",
    "    \n",
    "    cl1.append(df1['Roll Number'][i][7:9])\n",
    "\n",
    "df1['Slot'] = li1\n",
    "df1['Class'] = cl1"
   ]
  },
  {
   "cell_type": "code",
   "execution_count": 4,
   "metadata": {},
   "outputs": [],
   "source": [
    "C1_1 = []\n",
    "C1_2 = []\n",
    "C1_3 = []\n",
    "C1_4 = []\n",
    "C1_5 = []\n",
    "C1_6 = []\n",
    "C1_7 = []\n",
    "\n",
    "C2_1 = []\n",
    "C2_2 = []\n",
    "C2_3 = []\n",
    "C2_4 = []\n",
    "C2_5 = []\n",
    "C2_6 = []\n",
    "C2_7 = []\n",
    "\n",
    "for i in range(len(df1)):\n",
    "    if df1['Slot'][i] == 1 and df1['Class'][i] == '01':\n",
    "        C1_1.append(df1.iloc[i])\n",
    "    elif df1['Slot'][i] == 1 and df1['Class'][i] == '02':\n",
    "        C1_2.append(df1.iloc[i])\n",
    "    elif df1['Slot'][i] == 1 and df1['Class'][i] == '03':\n",
    "        C1_3.append(df1.iloc[i])\n",
    "    elif df1['Slot'][i] == 1 and df1['Class'][i] == '04':\n",
    "        C1_4.append(df1.iloc[i])\n",
    "    elif df1['Slot'][i] == 1 and df1['Class'][i] == '05':\n",
    "        C1_5.append(df1.iloc[i])\n",
    "    elif df1['Slot'][i] == 1 and df1['Class'][i] == '06':\n",
    "        C1_6.append(df1.iloc[i])\n",
    "    elif df1['Slot'][i] == 1 and df1['Class'][i] == '07':\n",
    "        C1_7.append(df1.iloc[i])\n",
    "        \n",
    "    elif df1['Slot'][i] == 2 and df1['Class'][i] == '01':\n",
    "        C2_1.append(df1.iloc[i])\n",
    "    elif df1['Slot'][i] == 2 and df1['Class'][i] == '02':\n",
    "        C2_2.append(df1.iloc[i])\n",
    "    elif df1['Slot'][i] == 2 and df1['Class'][i] == '03':\n",
    "        C2_3.append(df1.iloc[i])\n",
    "    elif df1['Slot'][i] == 2 and df1['Class'][i] == '04':\n",
    "        C2_4.append(df1.iloc[i])\n",
    "    elif df1['Slot'][i] == 2 and df1['Class'][i] == '05':\n",
    "        C2_5.append(df1.iloc[i])\n",
    "    elif df1['Slot'][i] == 2 and df1['Class'][i] == '06':\n",
    "        C2_6.append(df1.iloc[i])\n",
    "    elif df1['Slot'][i] == 2 and df1['Class'][i] == '07':\n",
    "        C2_7.append(df1.iloc[i])"
   ]
  },
  {
   "cell_type": "code",
   "execution_count": 8,
   "metadata": {},
   "outputs": [],
   "source": [
    "df1_1 = pd.DataFrame(C1_1)\n",
    "df1_2 = pd.DataFrame(C1_2)\n",
    "df1_3 = pd.DataFrame(C1_3)\n",
    "df1_4 = pd.DataFrame(C1_4)\n",
    "df1_5 = pd.DataFrame(C1_5)\n",
    "df1_6 = pd.DataFrame(C1_6)\n",
    "df1_7 = pd.DataFrame(C1_7)\n",
    "\n",
    "df2_1 = pd.DataFrame(C2_1)\n",
    "df2_2 = pd.DataFrame(C2_2)\n",
    "df2_3 = pd.DataFrame(C2_3)\n",
    "df2_4 = pd.DataFrame(C2_4)\n",
    "df2_5 = pd.DataFrame(C2_5)\n",
    "df2_6 = pd.DataFrame(C2_6)\n",
    "df2_7 = pd.DataFrame(C2_7)"
   ]
  },
  {
   "cell_type": "code",
   "execution_count": 25,
   "metadata": {},
   "outputs": [],
   "source": [
    "df1_1 = df1_1.drop(['Slot', 'Class'], axis = 1)\n",
    "df1_2 = df1_2.drop(['Slot', 'Class'], axis = 1)\n",
    "df1_3 = df1_3.drop(['Slot', 'Class'], axis = 1)\n",
    "df1_4 = df1_4.drop(['Slot', 'Class'], axis = 1)\n",
    "df1_5 = df1_5.drop(['Slot', 'Class'], axis = 1)\n",
    "df1_6 = df1_6.drop(['Slot', 'Class'], axis = 1)\n",
    "df1_7 = df1_7.drop(['Slot', 'Class'], axis = 1)\n",
    "\n",
    "df2_1 = df2_1.drop(['Slot', 'Class'], axis = 1)\n",
    "df2_2 = df2_2.drop(['Slot', 'Class'], axis = 1)\n",
    "df2_3 = df2_3.drop(['Slot', 'Class'], axis = 1)\n",
    "df2_4 = df2_4.drop(['Slot', 'Class'], axis = 1)\n",
    "df2_5 = df2_5.drop(['Slot', 'Class'], axis = 1)\n",
    "df2_6 = df2_6.drop(['Slot', 'Class'], axis = 1)\n",
    "df2_7 = df2_7.drop(['Slot', 'Class'], axis = 1)"
   ]
  },
  {
   "cell_type": "code",
   "execution_count": 29,
   "metadata": {},
   "outputs": [],
   "source": [
    "df1_1.to_csv(\"Final Responses/Slot 1/Class1.csv\")\n",
    "df1_2.to_csv(\"Final Responses/Slot 1/Class2.csv\")\n",
    "df1_3.to_csv(\"Final Responses/Slot 1/Class3.csv\")\n",
    "df1_4.to_csv(\"Final Responses/Slot 1/Class4.csv\")\n",
    "df1_5.to_csv(\"Final Responses/Slot 1/Class5.csv\")\n",
    "df1_6.to_csv(\"Final Responses/Slot 1/Class6.csv\")\n",
    "df1_7.to_csv(\"Final Responses/Slot 1/Class7.csv\")\n",
    "\n",
    "df2_1.to_csv(\"Final Responses/Slot 2/Class1.csv\")\n",
    "df2_2.to_csv(\"Final Responses/Slot 2/Class2.csv\")\n",
    "df2_3.to_csv(\"Final Responses/Slot 2/Class3.csv\")\n",
    "df2_4.to_csv(\"Final Responses/Slot 2/Class4.csv\")\n",
    "df2_5.to_csv(\"Final Responses/Slot 2/Class5.csv\")\n",
    "df2_6.to_csv(\"Final Responses/Slot 2/Class6.csv\")\n",
    "df2_7.to_csv(\"Final Responses/Slot 2/Class7.csv\")"
   ]
  },
  {
   "cell_type": "code",
   "execution_count": 30,
   "metadata": {},
   "outputs": [],
   "source": [
    "li2 = []\n",
    "cl2 = []\n",
    "\n",
    "for i in range(len(df2)):\n",
    "    if df2['Roll Number'][i][0:6] == 'PU2002':\n",
    "        li2.append(1)\n",
    "    elif df2['Roll Number'][i][0:6] == 'AS2009':\n",
    "        li2.append(1)\n",
    "    elif df2['Roll Number'][i][0:6] == 'UK2008':\n",
    "        li2.append(1)\n",
    "    elif df2['Roll Number'][i][0:6] == 'UP2005':\n",
    "        li2.append(1)\n",
    "    else:\n",
    "        li2.append(2)\n",
    "        \n",
    "    cl2.append(df2['Roll Number'][i][7:9])\n",
    "\n",
    "df2['Slot'] = li2\n",
    "df2['Class'] = cl2"
   ]
  },
  {
   "cell_type": "code",
   "execution_count": 32,
   "metadata": {},
   "outputs": [],
   "source": [
    "AC1_8 = []\n",
    "C1_9 = []\n",
    "C1_10 = []\n",
    "\n",
    "C2_8 = []\n",
    "C2_9 = []\n",
    "C2_10 = []\n",
    "\n",
    "for i in range(len(df2)):\n",
    "    if df2['Slot'][i] == 1 and df2['Class'][i] == '08':\n",
    "        C1_8.append(df2.iloc[i])\n",
    "    elif df2['Slot'][i] == 1 and df2['Class'][i] == '09':\n",
    "        C1_9.append(df2.iloc[i])\n",
    "    elif df2['Slot'][i] == 1 and df2['Class'][i] == '10':\n",
    "        C1_10.append(df2.iloc[i])\n",
    "        \n",
    "    elif df2['Slot'][i] == 2 and df2['Class'][i] == '08':\n",
    "        C2_8.append(df2.iloc[i])\n",
    "    elif df2['Slot'][i] == 2 and df2['Class'][i] == '09':\n",
    "        C2_9.append(df2.iloc[i])\n",
    "    elif df2['Slot'][i] == 2 and df2['Class'][i] == '10':\n",
    "        C2_10.append(df2.iloc[i])"
   ]
  },
  {
   "cell_type": "code",
   "execution_count": 33,
   "metadata": {},
   "outputs": [],
   "source": [
    "df1_8 = pd.DataFrame(C1_8)\n",
    "df1_9 = pd.DataFrame(C1_9)\n",
    "df1_10 = pd.DataFrame(C1_10)\n",
    "\n",
    "df2_8 = pd.DataFrame(C2_8)\n",
    "df2_9 = pd.DataFrame(C2_9)\n",
    "df2_10 = pd.DataFrame(C2_10)"
   ]
  },
  {
   "cell_type": "code",
   "execution_count": 34,
   "metadata": {},
   "outputs": [],
   "source": [
    "df1_8 = df1_8.drop(['Slot', 'Class'], axis = 1)\n",
    "df1_9 = df1_9.drop(['Slot', 'Class'], axis = 1)\n",
    "df1_10 = df1_10.drop(['Slot', 'Class'], axis = 1)"
   ]
  },
  {
   "cell_type": "code",
   "execution_count": 35,
   "metadata": {},
   "outputs": [],
   "source": [
    "df1_8.to_csv(\"Final Responses/Slot 1/Class8.csv\")\n",
    "df1_9.to_csv(\"Final Responses/Slot 1/Class9.csv\")\n",
    "df1_10.to_csv(\"Final Responses/Slot 1/Class10.csv\")\n",
    "\n",
    "df2_8.to_csv(\"Final Responses/Slot 2/Class8.csv\")\n",
    "df2_9.to_csv(\"Final Responses/Slot 2/Class9.csv\")\n",
    "df2_10.to_csv(\"Final Responses/Slot 2/Class10.csv\")"
   ]
  },
  {
   "cell_type": "code",
   "execution_count": 3,
   "metadata": {},
   "outputs": [],
   "source": [
    "li3 = []\n",
    "cl3 = []\n",
    "\n",
    "for i in range(len(df3)):\n",
    "    if df3['Roll Number'][i][0:6] == 'PU2002':\n",
    "        li3.append(1)\n",
    "    elif df3['Roll Number'][i][0:6] == 'AS2009':\n",
    "        li3.append(1)\n",
    "    elif df3['Roll Number'][i][0:6] == 'UK2008':\n",
    "        li3.append(1)\n",
    "    elif df3['Roll Number'][i][0:6] == 'UP2005':\n",
    "        li3.append(1)\n",
    "    else:\n",
    "        li3.append(2)\n",
    "        \n",
    "    cl3.append(df3['Roll Number'][i][7:9])\n",
    "\n",
    "df3['Slot'] = li3\n",
    "df3['Class'] = cl3"
   ]
  },
  {
   "cell_type": "code",
   "execution_count": 4,
   "metadata": {},
   "outputs": [],
   "source": [
    "C1_11 = []\n",
    "C1_12 = []\n",
    "\n",
    "C2_11 = []\n",
    "C2_12 = []\n",
    "\n",
    "for i in range(len(df3)):\n",
    "    if df3['Slot'][i] == 1 and df3['Class'][i] == '11':\n",
    "        C1_11.append(df3.iloc[i])\n",
    "    elif df3['Slot'][i] == 1 and df3['Class'][i] == '12':\n",
    "        C1_12.append(df3.iloc[i])\n",
    "        \n",
    "    elif df3['Slot'][i] == 2 and df3['Class'][i] == '11':\n",
    "        C2_11.append(df3.iloc[i])\n",
    "    elif df3['Slot'][i] == 2 and df3['Class'][i] == '12':\n",
    "        C2_12.append(df3.iloc[i])"
   ]
  },
  {
   "cell_type": "code",
   "execution_count": 5,
   "metadata": {},
   "outputs": [],
   "source": [
    "df1_11 = pd.DataFrame(C1_11)\n",
    "df1_12 = pd.DataFrame(C1_12)\n",
    "\n",
    "df2_11 = pd.DataFrame(C2_11)\n",
    "df2_12 = pd.DataFrame(C2_12)"
   ]
  },
  {
   "cell_type": "code",
   "execution_count": 6,
   "metadata": {},
   "outputs": [],
   "source": [
    "df1_11 = df1_11.drop(['Slot', 'Class'], axis = 1)\n",
    "df1_12 = df1_12.drop(['Slot', 'Class'], axis = 1)\n",
    "\n",
    "df2_11 = df2_11.drop(['Slot', 'Class'], axis = 1)\n",
    "df2_12 = df2_12.drop(['Slot', 'Class'], axis = 1)"
   ]
  },
  {
   "cell_type": "code",
   "execution_count": 7,
   "metadata": {},
   "outputs": [],
   "source": [
    "df1_11.to_csv(\"Final Responses/Slot 1/Class11.csv\")\n",
    "df1_12.to_csv(\"Final Responses/Slot 1/Class12.csv\")\n",
    "\n",
    "df2_11.to_csv(\"Final Responses/Slot 2/Class11.csv\")\n",
    "df2_12.to_csv(\"Final Responses/Slot 2/Class12.csv\")"
   ]
  }
 ],
 "metadata": {
  "kernelspec": {
   "display_name": "Python 3",
   "language": "python",
   "name": "python3"
  },
  "language_info": {
   "codemirror_mode": {
    "name": "ipython",
    "version": 3
   },
   "file_extension": ".py",
   "mimetype": "text/x-python",
   "name": "python",
   "nbconvert_exporter": "python",
   "pygments_lexer": "ipython3",
   "version": "3.7.3"
  }
 },
 "nbformat": 4,
 "nbformat_minor": 2
}
